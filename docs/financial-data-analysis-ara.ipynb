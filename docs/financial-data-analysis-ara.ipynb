{
 "cells": [
  {
   "cell_type": "code",
   "execution_count": 1,
   "metadata": {},
   "outputs": [],
   "source": [
    "import pandas as pd\n",
    "import numpy as np\n",
    "from dateutil import parser\n",
    "import duckdb as db\n",
    "\n",
    "from matplotlib import pyplot as plt\n",
    "import seaborn as sns\n",
    "from plotly.subplots import make_subplots\n",
    "import plotly.graph_objects as go\n",
    "import plotly.express as px\n",
    "\n",
    "from sklearn.linear_model import LinearRegression\n",
    "from sklearn.metrics import r2_score\n",
    "from statsmodels.tsa.arima.model import ARIMA"
   ]
  },
  {
   "cell_type": "code",
   "execution_count": 2,
   "metadata": {},
   "outputs": [
    {
     "name": "stdout",
     "output_type": "stream",
     "text": [
      "<class 'pandas.core.frame.DataFrame'>\n",
      "RangeIndex: 1000 entries, 0 to 999\n",
      "Data columns (total 4 columns):\n",
      " #   Column    Non-Null Count  Dtype \n",
      "---  ------    --------------  ----- \n",
      " 0   Date      1000 non-null   object\n",
      " 1   Revenue   1000 non-null   int64 \n",
      " 2   Expenses  1000 non-null   int64 \n",
      " 3   Profit    1000 non-null   int64 \n",
      "dtypes: int64(3), object(1)\n",
      "memory usage: 31.4+ KB\n"
     ]
    }
   ],
   "source": [
    "data = pd.read_csv(\"financial_data.csv\")\n",
    "data.info()"
   ]
  },
  {
   "cell_type": "code",
   "execution_count": 3,
   "metadata": {},
   "outputs": [
    {
     "name": "stdout",
     "output_type": "stream",
     "text": [
      "<class 'pandas.core.frame.DataFrame'>\n",
      "RangeIndex: 1000 entries, 0 to 999\n",
      "Data columns (total 4 columns):\n",
      " #   Column    Non-Null Count  Dtype         \n",
      "---  ------    --------------  -----         \n",
      " 0   Date      1000 non-null   datetime64[ns]\n",
      " 1   Revenue   1000 non-null   int64         \n",
      " 2   Expenses  1000 non-null   int64         \n",
      " 3   Profit    1000 non-null   int64         \n",
      "dtypes: datetime64[ns](1), int64(3)\n",
      "memory usage: 31.4 KB\n"
     ]
    }
   ],
   "source": [
    "data[\"Date\"] = data[\"Date\"].map(parser.parse)\n",
    "data.info()"
   ]
  },
  {
   "cell_type": "markdown",
   "metadata": {},
   "source": [
    "Analisis Statistik pada Data"
   ]
  },
  {
   "cell_type": "code",
   "execution_count": 4,
   "metadata": {},
   "outputs": [
    {
     "data": {
      "text/html": [
       "<div>\n",
       "<style scoped>\n",
       "    .dataframe tbody tr th:only-of-type {\n",
       "        vertical-align: middle;\n",
       "    }\n",
       "\n",
       "    .dataframe tbody tr th {\n",
       "        vertical-align: top;\n",
       "    }\n",
       "\n",
       "    .dataframe thead th {\n",
       "        text-align: right;\n",
       "    }\n",
       "</style>\n",
       "<table border=\"1\" class=\"dataframe\">\n",
       "  <thead>\n",
       "    <tr style=\"text-align: right;\">\n",
       "      <th></th>\n",
       "      <th>Date</th>\n",
       "      <th>Revenue</th>\n",
       "      <th>Expenses</th>\n",
       "      <th>Profit</th>\n",
       "    </tr>\n",
       "  </thead>\n",
       "  <tbody>\n",
       "    <tr>\n",
       "      <th>count</th>\n",
       "      <td>1000</td>\n",
       "      <td>1000.000000</td>\n",
       "      <td>1000.000000</td>\n",
       "      <td>1000.000000</td>\n",
       "    </tr>\n",
       "    <tr>\n",
       "      <th>mean</th>\n",
       "      <td>2023-06-29 16:06:14.400000</td>\n",
       "      <td>12311.360000</td>\n",
       "      <td>5979.476000</td>\n",
       "      <td>6331.884000</td>\n",
       "    </tr>\n",
       "    <tr>\n",
       "      <th>min</th>\n",
       "      <td>2023-01-02 00:00:00</td>\n",
       "      <td>5023.000000</td>\n",
       "      <td>2004.000000</td>\n",
       "      <td>-4022.000000</td>\n",
       "    </tr>\n",
       "    <tr>\n",
       "      <th>25%</th>\n",
       "      <td>2023-03-20 18:00:00</td>\n",
       "      <td>8472.750000</td>\n",
       "      <td>3868.750000</td>\n",
       "      <td>2584.000000</td>\n",
       "    </tr>\n",
       "    <tr>\n",
       "      <th>50%</th>\n",
       "      <td>2023-07-03 00:00:00</td>\n",
       "      <td>12179.500000</td>\n",
       "      <td>5965.000000</td>\n",
       "      <td>6286.000000</td>\n",
       "    </tr>\n",
       "    <tr>\n",
       "      <th>75%</th>\n",
       "      <td>2023-10-06 06:00:00</td>\n",
       "      <td>15959.750000</td>\n",
       "      <td>8188.500000</td>\n",
       "      <td>10029.750000</td>\n",
       "    </tr>\n",
       "    <tr>\n",
       "      <th>max</th>\n",
       "      <td>2023-12-30 00:00:00</td>\n",
       "      <td>19989.000000</td>\n",
       "      <td>9999.000000</td>\n",
       "      <td>17869.000000</td>\n",
       "    </tr>\n",
       "    <tr>\n",
       "      <th>std</th>\n",
       "      <td>NaN</td>\n",
       "      <td>4362.996684</td>\n",
       "      <td>2342.899236</td>\n",
       "      <td>4969.539125</td>\n",
       "    </tr>\n",
       "  </tbody>\n",
       "</table>\n",
       "</div>"
      ],
      "text/plain": [
       "                             Date       Revenue     Expenses        Profit\n",
       "count                        1000   1000.000000  1000.000000   1000.000000\n",
       "mean   2023-06-29 16:06:14.400000  12311.360000  5979.476000   6331.884000\n",
       "min           2023-01-02 00:00:00   5023.000000  2004.000000  -4022.000000\n",
       "25%           2023-03-20 18:00:00   8472.750000  3868.750000   2584.000000\n",
       "50%           2023-07-03 00:00:00  12179.500000  5965.000000   6286.000000\n",
       "75%           2023-10-06 06:00:00  15959.750000  8188.500000  10029.750000\n",
       "max           2023-12-30 00:00:00  19989.000000  9999.000000  17869.000000\n",
       "std                           NaN   4362.996684  2342.899236   4969.539125"
      ]
     },
     "execution_count": 4,
     "metadata": {},
     "output_type": "execute_result"
    }
   ],
   "source": [
    "data.describe(include='all')"
   ]
  },
  {
   "cell_type": "markdown",
   "metadata": {},
   "source": [
    "Perkembangan Pendapatan (Revenue) dan Laba (Profit)"
   ]
  },
  {
   "cell_type": "code",
   "execution_count": 5,
   "metadata": {},
   "outputs": [
    {
     "data": {
      "text/html": [
       "<div>\n",
       "<style scoped>\n",
       "    .dataframe tbody tr th:only-of-type {\n",
       "        vertical-align: middle;\n",
       "    }\n",
       "\n",
       "    .dataframe tbody tr th {\n",
       "        vertical-align: top;\n",
       "    }\n",
       "\n",
       "    .dataframe thead th {\n",
       "        text-align: right;\n",
       "    }\n",
       "</style>\n",
       "<table border=\"1\" class=\"dataframe\">\n",
       "  <thead>\n",
       "    <tr style=\"text-align: right;\">\n",
       "      <th></th>\n",
       "      <th>Date</th>\n",
       "      <th>Revenue</th>\n",
       "      <th>Expenses</th>\n",
       "      <th>Profit</th>\n",
       "    </tr>\n",
       "  </thead>\n",
       "  <tbody>\n",
       "    <tr>\n",
       "      <th>0</th>\n",
       "      <td>2023-07-23</td>\n",
       "      <td>6779</td>\n",
       "      <td>9187</td>\n",
       "      <td>-2408</td>\n",
       "    </tr>\n",
       "    <tr>\n",
       "      <th>1</th>\n",
       "      <td>2023-11-11</td>\n",
       "      <td>15221</td>\n",
       "      <td>7708</td>\n",
       "      <td>7513</td>\n",
       "    </tr>\n",
       "    <tr>\n",
       "      <th>2</th>\n",
       "      <td>2023-12-07</td>\n",
       "      <td>8686</td>\n",
       "      <td>8693</td>\n",
       "      <td>-7</td>\n",
       "    </tr>\n",
       "    <tr>\n",
       "      <th>3</th>\n",
       "      <td>2023-05-01</td>\n",
       "      <td>5711</td>\n",
       "      <td>4666</td>\n",
       "      <td>1045</td>\n",
       "    </tr>\n",
       "    <tr>\n",
       "      <th>4</th>\n",
       "      <td>2023-01-18</td>\n",
       "      <td>6852</td>\n",
       "      <td>9987</td>\n",
       "      <td>-3135</td>\n",
       "    </tr>\n",
       "  </tbody>\n",
       "</table>\n",
       "</div>"
      ],
      "text/plain": [
       "        Date  Revenue  Expenses  Profit\n",
       "0 2023-07-23     6779      9187   -2408\n",
       "1 2023-11-11    15221      7708    7513\n",
       "2 2023-12-07     8686      8693      -7\n",
       "3 2023-05-01     5711      4666    1045\n",
       "4 2023-01-18     6852      9987   -3135"
      ]
     },
     "execution_count": 5,
     "metadata": {},
     "output_type": "execute_result"
    }
   ],
   "source": [
    "data.head()"
   ]
  },
  {
   "cell_type": "code",
   "execution_count": 6,
   "metadata": {},
   "outputs": [
    {
     "data": {
      "text/html": [
       "<div>\n",
       "<style scoped>\n",
       "    .dataframe tbody tr th:only-of-type {\n",
       "        vertical-align: middle;\n",
       "    }\n",
       "\n",
       "    .dataframe tbody tr th {\n",
       "        vertical-align: top;\n",
       "    }\n",
       "\n",
       "    .dataframe thead th {\n",
       "        text-align: right;\n",
       "    }\n",
       "</style>\n",
       "<table border=\"1\" class=\"dataframe\">\n",
       "  <thead>\n",
       "    <tr style=\"text-align: right;\">\n",
       "      <th></th>\n",
       "      <th>Date</th>\n",
       "      <th>Revenue</th>\n",
       "      <th>Expenses</th>\n",
       "      <th>Profit</th>\n",
       "    </tr>\n",
       "  </thead>\n",
       "  <tbody>\n",
       "    <tr>\n",
       "      <th>710</th>\n",
       "      <td>2023-01-02</td>\n",
       "      <td>19300</td>\n",
       "      <td>4325</td>\n",
       "      <td>14975</td>\n",
       "    </tr>\n",
       "    <tr>\n",
       "      <th>107</th>\n",
       "      <td>2023-01-02</td>\n",
       "      <td>8219</td>\n",
       "      <td>5555</td>\n",
       "      <td>2664</td>\n",
       "    </tr>\n",
       "    <tr>\n",
       "      <th>761</th>\n",
       "      <td>2023-01-03</td>\n",
       "      <td>9270</td>\n",
       "      <td>6142</td>\n",
       "      <td>3128</td>\n",
       "    </tr>\n",
       "    <tr>\n",
       "      <th>493</th>\n",
       "      <td>2023-01-03</td>\n",
       "      <td>8199</td>\n",
       "      <td>3975</td>\n",
       "      <td>4224</td>\n",
       "    </tr>\n",
       "    <tr>\n",
       "      <th>262</th>\n",
       "      <td>2023-01-03</td>\n",
       "      <td>7169</td>\n",
       "      <td>3169</td>\n",
       "      <td>4000</td>\n",
       "    </tr>\n",
       "  </tbody>\n",
       "</table>\n",
       "</div>"
      ],
      "text/plain": [
       "          Date  Revenue  Expenses  Profit\n",
       "710 2023-01-02    19300      4325   14975\n",
       "107 2023-01-02     8219      5555    2664\n",
       "761 2023-01-03     9270      6142    3128\n",
       "493 2023-01-03     8199      3975    4224\n",
       "262 2023-01-03     7169      3169    4000"
      ]
     },
     "execution_count": 6,
     "metadata": {},
     "output_type": "execute_result"
    }
   ],
   "source": [
    "data_new = data.sort_values(by='Date')\n",
    "data_new.head()"
   ]
  },
  {
   "cell_type": "code",
   "execution_count": 7,
   "metadata": {},
   "outputs": [],
   "source": [
    "def query(sql_query:str) -> pd.DataFrame:\n",
    "    return db.sql(sql_query).df()"
   ]
  },
  {
   "cell_type": "code",
   "execution_count": 8,
   "metadata": {},
   "outputs": [
    {
     "data": {
      "text/html": [
       "<div>\n",
       "<style scoped>\n",
       "    .dataframe tbody tr th:only-of-type {\n",
       "        vertical-align: middle;\n",
       "    }\n",
       "\n",
       "    .dataframe tbody tr th {\n",
       "        vertical-align: top;\n",
       "    }\n",
       "\n",
       "    .dataframe thead th {\n",
       "        text-align: right;\n",
       "    }\n",
       "</style>\n",
       "<table border=\"1\" class=\"dataframe\">\n",
       "  <thead>\n",
       "    <tr style=\"text-align: right;\">\n",
       "      <th></th>\n",
       "      <th>Month</th>\n",
       "      <th>Revenue</th>\n",
       "      <th>Expenses</th>\n",
       "      <th>Profit</th>\n",
       "    </tr>\n",
       "  </thead>\n",
       "  <tbody>\n",
       "    <tr>\n",
       "      <th>0</th>\n",
       "      <td>1</td>\n",
       "      <td>1296287.0</td>\n",
       "      <td>629845.0</td>\n",
       "      <td>666442.0</td>\n",
       "    </tr>\n",
       "    <tr>\n",
       "      <th>1</th>\n",
       "      <td>2</td>\n",
       "      <td>971880.0</td>\n",
       "      <td>463243.0</td>\n",
       "      <td>508637.0</td>\n",
       "    </tr>\n",
       "    <tr>\n",
       "      <th>2</th>\n",
       "      <td>3</td>\n",
       "      <td>1068769.0</td>\n",
       "      <td>499683.0</td>\n",
       "      <td>569086.0</td>\n",
       "    </tr>\n",
       "    <tr>\n",
       "      <th>3</th>\n",
       "      <td>4</td>\n",
       "      <td>1011152.0</td>\n",
       "      <td>466250.0</td>\n",
       "      <td>544902.0</td>\n",
       "    </tr>\n",
       "    <tr>\n",
       "      <th>4</th>\n",
       "      <td>5</td>\n",
       "      <td>952889.0</td>\n",
       "      <td>491328.0</td>\n",
       "      <td>461561.0</td>\n",
       "    </tr>\n",
       "    <tr>\n",
       "      <th>5</th>\n",
       "      <td>6</td>\n",
       "      <td>735624.0</td>\n",
       "      <td>368634.0</td>\n",
       "      <td>366990.0</td>\n",
       "    </tr>\n",
       "    <tr>\n",
       "      <th>6</th>\n",
       "      <td>7</td>\n",
       "      <td>1063433.0</td>\n",
       "      <td>527562.0</td>\n",
       "      <td>535871.0</td>\n",
       "    </tr>\n",
       "    <tr>\n",
       "      <th>7</th>\n",
       "      <td>8</td>\n",
       "      <td>984361.0</td>\n",
       "      <td>480289.0</td>\n",
       "      <td>504072.0</td>\n",
       "    </tr>\n",
       "    <tr>\n",
       "      <th>8</th>\n",
       "      <td>9</td>\n",
       "      <td>910322.0</td>\n",
       "      <td>445481.0</td>\n",
       "      <td>464841.0</td>\n",
       "    </tr>\n",
       "    <tr>\n",
       "      <th>9</th>\n",
       "      <td>10</td>\n",
       "      <td>1085513.0</td>\n",
       "      <td>489586.0</td>\n",
       "      <td>595927.0</td>\n",
       "    </tr>\n",
       "    <tr>\n",
       "      <th>10</th>\n",
       "      <td>11</td>\n",
       "      <td>1195057.0</td>\n",
       "      <td>578581.0</td>\n",
       "      <td>616476.0</td>\n",
       "    </tr>\n",
       "    <tr>\n",
       "      <th>11</th>\n",
       "      <td>12</td>\n",
       "      <td>1036073.0</td>\n",
       "      <td>538994.0</td>\n",
       "      <td>497079.0</td>\n",
       "    </tr>\n",
       "  </tbody>\n",
       "</table>\n",
       "</div>"
      ],
      "text/plain": [
       "    Month    Revenue  Expenses    Profit\n",
       "0       1  1296287.0  629845.0  666442.0\n",
       "1       2   971880.0  463243.0  508637.0\n",
       "2       3  1068769.0  499683.0  569086.0\n",
       "3       4  1011152.0  466250.0  544902.0\n",
       "4       5   952889.0  491328.0  461561.0\n",
       "5       6   735624.0  368634.0  366990.0\n",
       "6       7  1063433.0  527562.0  535871.0\n",
       "7       8   984361.0  480289.0  504072.0\n",
       "8       9   910322.0  445481.0  464841.0\n",
       "9      10  1085513.0  489586.0  595927.0\n",
       "10     11  1195057.0  578581.0  616476.0\n",
       "11     12  1036073.0  538994.0  497079.0"
      ]
     },
     "execution_count": 8,
     "metadata": {},
     "output_type": "execute_result"
    }
   ],
   "source": [
    "sum_col = \", \".join([f'SUM(\"{col}\") AS \"{col}\"' for col in data_new.iloc[:, 1:]])\n",
    "\n",
    "x = query(f'''SELECT MONTH(Date) AS Month, {sum_col} FROM data_new\n",
    "            GROUP BY MONTH(Date) ORDER BY MONTH(Date)''')\n",
    "x"
   ]
  },
  {
   "cell_type": "code",
   "execution_count": 9,
   "metadata": {},
   "outputs": [
    {
     "data": {
      "image/png": "[encoded data removed]",
      "text/plain": [
       "<Figure size 640x480 with 1 Axes>"
      ]
     },
     "metadata": {},
     "output_type": "display_data"
    }
   ],
   "source": [
    "plt.plot(x['Month'], x[['Revenue', 'Profit']], marker='o')\n",
    "\n",
    "plt.title('Penjualan Bulanan Tahun 2023')\n",
    "plt.xticks(x['Month'])\n",
    "plt.xlabel('Bulan')\n",
    "plt.ylabel('Total')\n",
    "plt.legend(x[['Revenue', 'Profit']])\n",
    "plt.grid(True)\n",
    "\n",
    "plt.show()"
   ]
  },
  {
   "cell_type": "markdown",
   "metadata": {},
   "source": [
    "Rasio laba (Profit) Terhadap Biaya (Expenses) Setiap Bulan"
   ]
  },
  {
   "cell_type": "code",
   "execution_count": 10,
   "metadata": {},
   "outputs": [
    {
     "data": {
      "text/html": [
       "<div>\n",
       "<style scoped>\n",
       "    .dataframe tbody tr th:only-of-type {\n",
       "        vertical-align: middle;\n",
       "    }\n",
       "\n",
       "    .dataframe tbody tr th {\n",
       "        vertical-align: top;\n",
       "    }\n",
       "\n",
       "    .dataframe thead th {\n",
       "        text-align: right;\n",
       "    }\n",
       "</style>\n",
       "<table border=\"1\" class=\"dataframe\">\n",
       "  <thead>\n",
       "    <tr style=\"text-align: right;\">\n",
       "      <th></th>\n",
       "      <th>Month</th>\n",
       "      <th>Revenue</th>\n",
       "      <th>Expenses</th>\n",
       "      <th>Profit</th>\n",
       "      <th>Rasio Laba (%)</th>\n",
       "    </tr>\n",
       "  </thead>\n",
       "  <tbody>\n",
       "    <tr>\n",
       "      <th>0</th>\n",
       "      <td>1</td>\n",
       "      <td>1296287.0</td>\n",
       "      <td>629845.0</td>\n",
       "      <td>666442.0</td>\n",
       "      <td>105.810477</td>\n",
       "    </tr>\n",
       "    <tr>\n",
       "      <th>1</th>\n",
       "      <td>2</td>\n",
       "      <td>971880.0</td>\n",
       "      <td>463243.0</td>\n",
       "      <td>508637.0</td>\n",
       "      <td>109.799177</td>\n",
       "    </tr>\n",
       "    <tr>\n",
       "      <th>2</th>\n",
       "      <td>3</td>\n",
       "      <td>1068769.0</td>\n",
       "      <td>499683.0</td>\n",
       "      <td>569086.0</td>\n",
       "      <td>113.889406</td>\n",
       "    </tr>\n",
       "    <tr>\n",
       "      <th>3</th>\n",
       "      <td>4</td>\n",
       "      <td>1011152.0</td>\n",
       "      <td>466250.0</td>\n",
       "      <td>544902.0</td>\n",
       "      <td>116.869062</td>\n",
       "    </tr>\n",
       "    <tr>\n",
       "      <th>4</th>\n",
       "      <td>5</td>\n",
       "      <td>952889.0</td>\n",
       "      <td>491328.0</td>\n",
       "      <td>461561.0</td>\n",
       "      <td>93.941522</td>\n",
       "    </tr>\n",
       "    <tr>\n",
       "      <th>5</th>\n",
       "      <td>6</td>\n",
       "      <td>735624.0</td>\n",
       "      <td>368634.0</td>\n",
       "      <td>366990.0</td>\n",
       "      <td>99.554029</td>\n",
       "    </tr>\n",
       "    <tr>\n",
       "      <th>6</th>\n",
       "      <td>7</td>\n",
       "      <td>1063433.0</td>\n",
       "      <td>527562.0</td>\n",
       "      <td>535871.0</td>\n",
       "      <td>101.574981</td>\n",
       "    </tr>\n",
       "    <tr>\n",
       "      <th>7</th>\n",
       "      <td>8</td>\n",
       "      <td>984361.0</td>\n",
       "      <td>480289.0</td>\n",
       "      <td>504072.0</td>\n",
       "      <td>104.951810</td>\n",
       "    </tr>\n",
       "    <tr>\n",
       "      <th>8</th>\n",
       "      <td>9</td>\n",
       "      <td>910322.0</td>\n",
       "      <td>445481.0</td>\n",
       "      <td>464841.0</td>\n",
       "      <td>104.345864</td>\n",
       "    </tr>\n",
       "    <tr>\n",
       "      <th>9</th>\n",
       "      <td>10</td>\n",
       "      <td>1085513.0</td>\n",
       "      <td>489586.0</td>\n",
       "      <td>595927.0</td>\n",
       "      <td>121.720597</td>\n",
       "    </tr>\n",
       "    <tr>\n",
       "      <th>10</th>\n",
       "      <td>11</td>\n",
       "      <td>1195057.0</td>\n",
       "      <td>578581.0</td>\n",
       "      <td>616476.0</td>\n",
       "      <td>106.549645</td>\n",
       "    </tr>\n",
       "    <tr>\n",
       "      <th>11</th>\n",
       "      <td>12</td>\n",
       "      <td>1036073.0</td>\n",
       "      <td>538994.0</td>\n",
       "      <td>497079.0</td>\n",
       "      <td>92.223476</td>\n",
       "    </tr>\n",
       "  </tbody>\n",
       "</table>\n",
       "</div>"
      ],
      "text/plain": [
       "    Month    Revenue  Expenses    Profit  Rasio Laba (%)\n",
       "0       1  1296287.0  629845.0  666442.0      105.810477\n",
       "1       2   971880.0  463243.0  508637.0      109.799177\n",
       "2       3  1068769.0  499683.0  569086.0      113.889406\n",
       "3       4  1011152.0  466250.0  544902.0      116.869062\n",
       "4       5   952889.0  491328.0  461561.0       93.941522\n",
       "5       6   735624.0  368634.0  366990.0       99.554029\n",
       "6       7  1063433.0  527562.0  535871.0      101.574981\n",
       "7       8   984361.0  480289.0  504072.0      104.951810\n",
       "8       9   910322.0  445481.0  464841.0      104.345864\n",
       "9      10  1085513.0  489586.0  595927.0      121.720597\n",
       "10     11  1195057.0  578581.0  616476.0      106.549645\n",
       "11     12  1036073.0  538994.0  497079.0       92.223476"
      ]
     },
     "execution_count": 10,
     "metadata": {},
     "output_type": "execute_result"
    }
   ],
   "source": [
    "x['Rasio Laba (%)'] = (x['Profit']/x['Expenses'])*100\n",
    "x"
   ]
  },
  {
   "cell_type": "code",
   "execution_count": 11,
   "metadata": {},
   "outputs": [
    {
     "data": {
      "image/png": "[encoded data removed]",
      "text/plain": [
       "<Figure size 640x480 with 1 Axes>"
      ]
     },
     "metadata": {},
     "output_type": "display_data"
    }
   ],
   "source": [
    "plt.plot(x['Month'], x['Rasio Laba (%)'], marker='o')\n",
    "\n",
    "plt.title('Rasio Laba Bulanan Tahun 2023')\n",
    "plt.xticks(x['Month'])\n",
    "plt.xlabel('Bulan')\n",
    "plt.ylabel('Total')\n",
    "plt.grid(True)\n",
    "\n",
    "plt.show()"
   ]
  },
  {
   "cell_type": "markdown",
   "metadata": {},
   "source": [
    "Analisis Bulan ke-? dengan Laba Tertinggi dan Terendah"
   ]
  },
  {
   "cell_type": "code",
   "execution_count": 12,
   "metadata": {},
   "outputs": [
    {
     "name": "stdout",
     "output_type": "stream",
     "text": [
      "Laba bersih tertinggi ada di bulan 10.0, sebesar 121.72059658568668\n"
     ]
    }
   ],
   "source": [
    "high = x.loc[x['Rasio Laba (%)'].idxmax(), ['Month','Rasio Laba (%)']]\n",
    "print(f'Laba bersih tertinggi ada di bulan {high['Month']}, sebesar {high['Rasio Laba (%)']}')"
   ]
  },
  {
   "cell_type": "code",
   "execution_count": 13,
   "metadata": {},
   "outputs": [
    {
     "name": "stdout",
     "output_type": "stream",
     "text": [
      "Laba bersih tertinggi ada di bulan 12.0, sebesar 92.2234755859991\n"
     ]
    }
   ],
   "source": [
    "low = x.loc[x['Rasio Laba (%)'].idxmin(), ['Month','Rasio Laba (%)']]\n",
    "print(f'Laba bersih tertinggi ada di bulan {low['Month']}, sebesar {low['Rasio Laba (%)']}')"
   ]
  },
  {
   "cell_type": "markdown",
   "metadata": {},
   "source": [
    "Membuat Model Sederhana untuk Memprediksi Pendapatan (Revenue) Berdasarkan Biaya (Expenses)"
   ]
  },
  {
   "cell_type": "code",
   "execution_count": 14,
   "metadata": {},
   "outputs": [
    {
     "name": "stdout",
     "output_type": "stream",
     "text": [
      "Koefisien\t: [2.00873806]\n",
      "Intersep\t: 25013.2485865138\n",
      "r^2 Score\t: 0.9055178394228562\n"
     ]
    }
   ],
   "source": [
    "exs = x['Expenses'].values.reshape(-1,1)    #var x\n",
    "rev = x['Revenue']                          #var y -> tujuan prediksi\n",
    "\n",
    "model = LinearRegression()  #pembuatan model\n",
    "model.fit(exs, rev)         #pelatihan model\n",
    "\n",
    "#evaluasi model\n",
    "print(f'Koefisien\\t: {model.coef_}')\n",
    "print(f'Intersep\\t: {model.intercept_}')\n",
    "print(f'r^2 Score\\t: {r2_score(rev, model.predict(exs))}')"
   ]
  },
  {
   "cell_type": "markdown",
   "metadata": {},
   "source": [
    "Prediksi Pendapatan (Revenue) Berdasarkan Biaya (Expenses) dari Model yang Telah Dibuat"
   ]
  },
  {
   "cell_type": "code",
   "execution_count": 15,
   "metadata": {},
   "outputs": [
    {
     "data": {
      "text/plain": [
       "array([ 955547.09347534, 1290206.87166123])"
      ]
     },
     "execution_count": 15,
     "metadata": {},
     "output_type": "execute_result"
    }
   ],
   "source": [
    "#tidak melalui input (lebih dari satu)\n",
    "model.predict([[463243], [629845.0]])"
   ]
  },
  {
   "cell_type": "code",
   "execution_count": 16,
   "metadata": {},
   "outputs": [
    {
     "name": "stdout",
     "output_type": "stream",
     "text": [
      "Perkiraan pendapatan dengan biaya sebesar 729845.0: 1491080.6776094765\n"
     ]
    }
   ],
   "source": [
    "#melalui input (tunggal)\n",
    "y = float(input(\"Masukkan besar biaya: \"))\n",
    "print(f\"Perkiraan pendapatan dengan biaya sebesar {y}: {model.predict([[y]])[0]}\")"
   ]
  },
  {
   "cell_type": "code",
   "execution_count": 17,
   "metadata": {},
   "outputs": [
    {
     "name": "stdout",
     "output_type": "stream",
     "text": [
      "Perkiraan pendapatan dengan biaya sebesar 463243.5: 955548.0978443683\n",
      "Perkiraan pendapatan dengan biaya sebesar 629845.9: 1290208.679525486\n"
     ]
    }
   ],
   "source": [
    "#melalui input (lebih dari satu)\n",
    "biaya_input = input(\"Masukkan besar biaya: \")\n",
    "\n",
    "biaya_list = biaya_input.split()\n",
    "\n",
    "biaya_int = [float(x) for x in biaya_list]\n",
    "\n",
    "for z in biaya_int:\n",
    "    print(f\"Perkiraan pendapatan dengan biaya sebesar {z}: {model.predict([[z]])[0]}\")"
   ]
  },
  {
   "cell_type": "markdown",
   "metadata": {},
   "source": [
    "Koefisien Korelasi Antara Pendapatan (Revenue) dan Laba (Profit)"
   ]
  },
  {
   "cell_type": "code",
   "execution_count": 18,
   "metadata": {},
   "outputs": [
    {
     "data": {
      "text/html": [
       "<div>\n",
       "<style scoped>\n",
       "    .dataframe tbody tr th:only-of-type {\n",
       "        vertical-align: middle;\n",
       "    }\n",
       "\n",
       "    .dataframe tbody tr th {\n",
       "        vertical-align: top;\n",
       "    }\n",
       "\n",
       "    .dataframe thead th {\n",
       "        text-align: right;\n",
       "    }\n",
       "</style>\n",
       "<table border=\"1\" class=\"dataframe\">\n",
       "  <thead>\n",
       "    <tr style=\"text-align: right;\">\n",
       "      <th></th>\n",
       "      <th>Revenue</th>\n",
       "      <th>Profit</th>\n",
       "    </tr>\n",
       "  </thead>\n",
       "  <tbody>\n",
       "    <tr>\n",
       "      <th>Revenue</th>\n",
       "      <td>1.000000</td>\n",
       "      <td>0.966603</td>\n",
       "    </tr>\n",
       "    <tr>\n",
       "      <th>Profit</th>\n",
       "      <td>0.966603</td>\n",
       "      <td>1.000000</td>\n",
       "    </tr>\n",
       "  </tbody>\n",
       "</table>\n",
       "</div>"
      ],
      "text/plain": [
       "          Revenue    Profit\n",
       "Revenue  1.000000  0.966603\n",
       "Profit   0.966603  1.000000"
      ]
     },
     "execution_count": 18,
     "metadata": {},
     "output_type": "execute_result"
    }
   ],
   "source": [
    "x[['Revenue','Profit']].corr()"
   ]
  },
  {
   "cell_type": "code",
   "execution_count": 19,
   "metadata": {},
   "outputs": [
    {
     "data": {
      "image/png": "[encoded data removed]",
      "text/plain": [
       "<Figure size 640x480 with 2 Axes>"
      ]
     },
     "metadata": {},
     "output_type": "display_data"
    }
   ],
   "source": [
    "sns.heatmap(x[['Revenue', 'Profit']].corr(), annot=True, cmap='Paired')\n",
    "plt.title('Korelasi Pendapatan (Revenue) dan biaya (Expenses)')\n",
    "plt.show()"
   ]
  },
  {
   "cell_type": "markdown",
   "metadata": {},
   "source": [
    "Identifikasi Outlier pada Data Pendapatan (Revenue) dan biaya (Expenses)"
   ]
  },
  {
   "cell_type": "code",
   "execution_count": 20,
   "metadata": {},
   "outputs": [
    {
     "data": {
      "application/vnd.plotly.v1+json": {
       "config": {
        "plotlyServerURL": "https://plot.ly"
       },
       "data": [
        {
         "name": "Expenses",
         "type": "box",
         "xaxis": "x",
         "y": [
          629845,
          463243,
          499683,
          466250,
          491328,
          368634,
          527562,
          480289,
          445481,
          489586,
          578581,
          538994
         ],
         "yaxis": "y"
        },
        {
         "name": "Revenue",
         "type": "box",
         "xaxis": "x",
         "y": [
          1296287,
          971880,
          1068769,
          1011152,
          952889,
          735624,
          1063433,
          984361,
          910322,
          1085513,
          1195057,
          1036073
         ],
         "yaxis": "y"
        },
        {
         "mode": "markers",
         "name": "Expenses vs Revenue",
         "type": "scatter",
         "x": [
          629845,
          463243,
          499683,
          466250,
          491328,
          368634,
          527562,
          480289,
          445481,
          489586,
          578581,
          538994
         ],
         "xaxis": "x2",
         "y": [
          1296287,
          971880,
          1068769,
          1011152,
          952889,
          735624,
          1063433,
          984361,
          910322,
          1085513,
          1195057,
          1036073
         ],
         "yaxis": "y2"
        },
        {
         "hovertemplate": "<b>OLS trendline</b><br>Revenue = 2.00874 * Expenses + 25013.2<br>R<sup>2</sup>=0.905518<br><br>Expenses=%{x}<br>Revenue=%{y} <b>(trend)</b><extra></extra>",
         "legendgroup": "",
         "line": {
          "color": "orange"
         },
         "marker": {
          "color": "#636efa",
          "symbol": "circle"
         },
         "mode": "lines",
         "name": "",
         "showlegend": false,
         "type": "scatter",
         "x": [
          368634,
          445481,
          463243,
          466250,
          480289,
          489586,
          491328,
          499683,
          527562,
          538994,
          578581,
          629845
         ],
         "xaxis": "x2",
         "y": [
          765502.3944057646,
          919867.8880628119,
          955547.093475339,
          961587.3688202028,
          989788.0424372767,
          1008463.280176285,
          1011962.5018759035,
          1028745.5083628792,
          1084747.1167231903,
          1107711.0102191935,
          1187230.9237799249,
          1290206.8716612328
         ],
         "yaxis": "y2"
        }
       ],
       "layout": {
        "template": {
         "data": {
          "bar": [
           {
            "error_x": {
             "color": "#2a3f5f"
            },
            "error_y": {
             "color": "#2a3f5f"
            },
            "marker": {
             "line": {
              "color": "#E5ECF6",
              "width": 0.5
             },
             "pattern": {
              "fillmode": "overlay",
              "size": 10,
              "solidity": 0.2
             }
            },
            "type": "bar"
           }
          ],
          "barpolar": [
           {
            "marker": {
             "line": {
              "color": "#E5ECF6",
              "width": 0.5
             },
             "pattern": {
              "fillmode": "overlay",
              "size": 10,
              "solidity": 0.2
             }
            },
            "type": "barpolar"
           }
          ],
          "carpet": [
           {
            "aaxis": {
             "endlinecolor": "#2a3f5f",
             "gridcolor": "white",
             "linecolor": "white",
             "minorgridcolor": "white",
             "startlinecolor": "#2a3f5f"
            },
            "baxis": {
             "endlinecolor": "#2a3f5f",
             "gridcolor": "white",
             "linecolor": "white",
             "minorgridcolor": "white",
             "startlinecolor": "#2a3f5f"
            },
            "type": "carpet"
           }
          ],
          "choropleth": [
           {
            "colorbar": {
             "outlinewidth": 0,
             "ticks": ""
            },
            "type": "choropleth"
           }
          ],
          "contour": [
           {
            "colorbar": {
             "outlinewidth": 0,
             "ticks": ""
            },
            "colorscale": [
             [
              0,
              "#0d0887"
             ],
             [
              0.1111111111111111,
              "#46039f"
             ],
             [
              0.2222222222222222,
              "#7201a8"
             ],
             [
              0.3333333333333333,
              "#9c179e"
             ],
             [
              0.4444444444444444,
              "#bd3786"
             ],
             [
              0.5555555555555556,
              "#d8576b"
             ],
             [
              0.6666666666666666,
              "#ed7953"
             ],
             [
              0.7777777777777778,
              "#fb9f3a"
             ],
             [
              0.8888888888888888,
              "#fdca26"
             ],
             [
              1,
              "#f0f921"
             ]
            ],
            "type": "contour"
           }
          ],
          "contourcarpet": [
           {
            "colorbar": {
             "outlinewidth": 0,
             "ticks": ""
            },
            "type": "contourcarpet"
           }
          ],
          "heatmap": [
           {
            "colorbar": {
             "outlinewidth": 0,
             "ticks": ""
            },
            "colorscale": [
             [
              0,
              "#0d0887"
             ],
             [
              0.1111111111111111,
              "#46039f"
             ],
             [
              0.2222222222222222,
              "#7201a8"
             ],
             [
              0.3333333333333333,
              "#9c179e"
             ],
             [
              0.4444444444444444,
              "#bd3786"
             ],
             [
              0.5555555555555556,
              "#d8576b"
             ],
             [
              0.6666666666666666,
              "#ed7953"
             ],
             [
              0.7777777777777778,
              "#fb9f3a"
             ],
             [
              0.8888888888888888,
              "#fdca26"
             ],
             [
              1,
              "#f0f921"
             ]
            ],
            "type": "heatmap"
           }
          ],
          "heatmapgl": [
           {
            "colorbar": {
             "outlinewidth": 0,
             "ticks": ""
            },
            "colorscale": [
             [
              0,
              "#0d0887"
             ],
             [
              0.1111111111111111,
              "#46039f"
             ],
             [
              0.2222222222222222,
              "#7201a8"
             ],
             [
              0.3333333333333333,
              "#9c179e"
             ],
             [
              0.4444444444444444,
              "#bd3786"
             ],
             [
              0.5555555555555556,
              "#d8576b"
             ],
             [
              0.6666666666666666,
              "#ed7953"
             ],
             [
              0.7777777777777778,
              "#fb9f3a"
             ],
             [
              0.8888888888888888,
              "#fdca26"
             ],
             [
              1,
              "#f0f921"
             ]
            ],
            "type": "heatmapgl"
           }
          ],
          "histogram": [
           {
            "marker": {
             "pattern": {
              "fillmode": "overlay",
              "size": 10,
              "solidity": 0.2
             }
            },
            "type": "histogram"
           }
          ],
          "histogram2d": [
           {
            "colorbar": {
             "outlinewidth": 0,
             "ticks": ""
            },
            "colorscale": [
             [
              0,
              "#0d0887"
             ],
             [
              0.1111111111111111,
              "#46039f"
             ],
             [
              0.2222222222222222,
              "#7201a8"
             ],
             [
              0.3333333333333333,
              "#9c179e"
             ],
             [
              0.4444444444444444,
              "#bd3786"
             ],
             [
              0.5555555555555556,
              "#d8576b"
             ],
             [
              0.6666666666666666,
              "#ed7953"
             ],
             [
              0.7777777777777778,
              "#fb9f3a"
             ],
             [
              0.8888888888888888,
              "#fdca26"
             ],
             [
              1,
              "#f0f921"
             ]
            ],
            "type": "histogram2d"
           }
          ],
          "histogram2dcontour": [
           {
            "colorbar": {
             "outlinewidth": 0,
             "ticks": ""
            },
            "colorscale": [
             [
              0,
              "#0d0887"
             ],
             [
              0.1111111111111111,
              "#46039f"
             ],
             [
              0.2222222222222222,
              "#7201a8"
             ],
             [
              0.3333333333333333,
              "#9c179e"
             ],
             [
              0.4444444444444444,
              "#bd3786"
             ],
             [
              0.5555555555555556,
              "#d8576b"
             ],
             [
              0.6666666666666666,
              "#ed7953"
             ],
             [
              0.7777777777777778,
              "#fb9f3a"
             ],
             [
              0.8888888888888888,
              "#fdca26"
             ],
             [
              1,
              "#f0f921"
             ]
            ],
            "type": "histogram2dcontour"
           }
          ],
          "mesh3d": [
           {
            "colorbar": {
             "outlinewidth": 0,
             "ticks": ""
            },
            "type": "mesh3d"
           }
          ],
          "parcoords": [
           {
            "line": {
             "colorbar": {
              "outlinewidth": 0,
              "ticks": ""
             }
            },
            "type": "parcoords"
           }
          ],
          "pie": [
           {
            "automargin": true,
            "type": "pie"
           }
          ],
          "scatter": [
           {
            "fillpattern": {
             "fillmode": "overlay",
             "size": 10,
             "solidity": 0.2
            },
            "type": "scatter"
           }
          ],
          "scatter3d": [
           {
            "line": {
             "colorbar": {
              "outlinewidth": 0,
              "ticks": ""
             }
            },
            "marker": {
             "colorbar": {
              "outlinewidth": 0,
              "ticks": ""
             }
            },
            "type": "scatter3d"
           }
          ],
          "scattercarpet": [
           {
            "marker": {
             "colorbar": {
              "outlinewidth": 0,
              "ticks": ""
             }
            },
            "type": "scattercarpet"
           }
          ],
          "scattergeo": [
           {
            "marker": {
             "colorbar": {
              "outlinewidth": 0,
              "ticks": ""
             }
            },
            "type": "scattergeo"
           }
          ],
          "scattergl": [
           {
            "marker": {
             "colorbar": {
              "outlinewidth": 0,
              "ticks": ""
             }
            },
            "type": "scattergl"
           }
          ],
          "scattermapbox": [
           {
            "marker": {
             "colorbar": {
              "outlinewidth": 0,
              "ticks": ""
             }
            },
            "type": "scattermapbox"
           }
          ],
          "scatterpolar": [
           {
            "marker": {
             "colorbar": {
              "outlinewidth": 0,
              "ticks": ""
             }
            },
            "type": "scatterpolar"
           }
          ],
          "scatterpolargl": [
           {
            "marker": {
             "colorbar": {
              "outlinewidth": 0,
              "ticks": ""
             }
            },
            "type": "scatterpolargl"
           }
          ],
          "scatterternary": [
           {
            "marker": {
             "colorbar": {
              "outlinewidth": 0,
              "ticks": ""
             }
            },
            "type": "scatterternary"
           }
          ],
          "surface": [
           {
            "colorbar": {
             "outlinewidth": 0,
             "ticks": ""
            },
            "colorscale": [
             [
              0,
              "#0d0887"
             ],
             [
              0.1111111111111111,
              "#46039f"
             ],
             [
              0.2222222222222222,
              "#7201a8"
             ],
             [
              0.3333333333333333,
              "#9c179e"
             ],
             [
              0.4444444444444444,
              "#bd3786"
             ],
             [
              0.5555555555555556,
              "#d8576b"
             ],
             [
              0.6666666666666666,
              "#ed7953"
             ],
             [
              0.7777777777777778,
              "#fb9f3a"
             ],
             [
              0.8888888888888888,
              "#fdca26"
             ],
             [
              1,
              "#f0f921"
             ]
            ],
            "type": "surface"
           }
          ],
          "table": [
           {
            "cells": {
             "fill": {
              "color": "#EBF0F8"
             },
             "line": {
              "color": "white"
             }
            },
            "header": {
             "fill": {
              "color": "#C8D4E3"
             },
             "line": {
              "color": "white"
             }
            },
            "type": "table"
           }
          ]
         },
         "layout": {
          "annotationdefaults": {
           "arrowcolor": "#2a3f5f",
           "arrowhead": 0,
           "arrowwidth": 1
          },
          "autotypenumbers": "strict",
          "coloraxis": {
           "colorbar": {
            "outlinewidth": 0,
            "ticks": ""
           }
          },
          "colorscale": {
           "diverging": [
            [
             0,
             "#8e0152"
            ],
            [
             0.1,
             "#c51b7d"
            ],
            [
             0.2,
             "#de77ae"
            ],
            [
             0.3,
             "#f1b6da"
            ],
            [
             0.4,
             "#fde0ef"
            ],
            [
             0.5,
             "#f7f7f7"
            ],
            [
             0.6,
             "#e6f5d0"
            ],
            [
             0.7,
             "#b8e186"
            ],
            [
             0.8,
             "#7fbc41"
            ],
            [
             0.9,
             "#4d9221"
            ],
            [
             1,
             "#276419"
            ]
           ],
           "sequential": [
            [
             0,
             "#0d0887"
            ],
            [
             0.1111111111111111,
             "#46039f"
            ],
            [
             0.2222222222222222,
             "#7201a8"
            ],
            [
             0.3333333333333333,
             "#9c179e"
            ],
            [
             0.4444444444444444,
             "#bd3786"
            ],
            [
             0.5555555555555556,
             "#d8576b"
            ],
            [
             0.6666666666666666,
             "#ed7953"
            ],
            [
             0.7777777777777778,
             "#fb9f3a"
            ],
            [
             0.8888888888888888,
             "#fdca26"
            ],
            [
             1,
             "#f0f921"
            ]
           ],
           "sequentialminus": [
            [
             0,
             "#0d0887"
            ],
            [
             0.1111111111111111,
             "#46039f"
            ],
            [
             0.2222222222222222,
             "#7201a8"
            ],
            [
             0.3333333333333333,
             "#9c179e"
            ],
            [
             0.4444444444444444,
             "#bd3786"
            ],
            [
             0.5555555555555556,
             "#d8576b"
            ],
            [
             0.6666666666666666,
             "#ed7953"
            ],
            [
             0.7777777777777778,
             "#fb9f3a"
            ],
            [
             0.8888888888888888,
             "#fdca26"
            ],
            [
             1,
             "#f0f921"
            ]
           ]
          },
          "colorway": [
           "#636efa",
           "#EF553B",
           "#00cc96",
           "#ab63fa",
           "#FFA15A",
           "#19d3f3",
           "#FF6692",
           "#B6E880",
           "#FF97FF",
           "#FECB52"
          ],
          "font": {
           "color": "#2a3f5f"
          },
          "geo": {
           "bgcolor": "white",
           "lakecolor": "white",
           "landcolor": "#E5ECF6",
           "showlakes": true,
           "showland": true,
           "subunitcolor": "white"
          },
          "hoverlabel": {
           "align": "left"
          },
          "hovermode": "closest",
          "mapbox": {
           "style": "light"
          },
          "paper_bgcolor": "white",
          "plot_bgcolor": "#E5ECF6",
          "polar": {
           "angularaxis": {
            "gridcolor": "white",
            "linecolor": "white",
            "ticks": ""
           },
           "bgcolor": "#E5ECF6",
           "radialaxis": {
            "gridcolor": "white",
            "linecolor": "white",
            "ticks": ""
           }
          },
          "scene": {
           "xaxis": {
            "backgroundcolor": "#E5ECF6",
            "gridcolor": "white",
            "gridwidth": 2,
            "linecolor": "white",
            "showbackground": true,
            "ticks": "",
            "zerolinecolor": "white"
           },
           "yaxis": {
            "backgroundcolor": "#E5ECF6",
            "gridcolor": "white",
            "gridwidth": 2,
            "linecolor": "white",
            "showbackground": true,
            "ticks": "",
            "zerolinecolor": "white"
           },
           "zaxis": {
            "backgroundcolor": "#E5ECF6",
            "gridcolor": "white",
            "gridwidth": 2,
            "linecolor": "white",
            "showbackground": true,
            "ticks": "",
            "zerolinecolor": "white"
           }
          },
          "shapedefaults": {
           "line": {
            "color": "#2a3f5f"
           }
          },
          "ternary": {
           "aaxis": {
            "gridcolor": "white",
            "linecolor": "white",
            "ticks": ""
           },
           "baxis": {
            "gridcolor": "white",
            "linecolor": "white",
            "ticks": ""
           },
           "bgcolor": "#E5ECF6",
           "caxis": {
            "gridcolor": "white",
            "linecolor": "white",
            "ticks": ""
           }
          },
          "title": {
           "x": 0.05
          },
          "xaxis": {
           "automargin": true,
           "gridcolor": "white",
           "linecolor": "white",
           "ticks": "",
           "title": {
            "standoff": 15
           },
           "zerolinecolor": "white",
           "zerolinewidth": 2
          },
          "yaxis": {
           "automargin": true,
           "gridcolor": "white",
           "linecolor": "white",
           "ticks": "",
           "title": {
            "standoff": 15
           },
           "zerolinecolor": "white",
           "zerolinewidth": 2
          }
         }
        },
        "xaxis": {
         "anchor": "y",
         "domain": [
          0,
          0.45
         ]
        },
        "xaxis2": {
         "anchor": "y2",
         "domain": [
          0.55,
          1
         ]
        },
        "yaxis": {
         "anchor": "x",
         "domain": [
          0,
          1
         ]
        },
        "yaxis2": {
         "anchor": "x2",
         "domain": [
          0,
          1
         ]
        }
       }
      }
     },
     "metadata": {},
     "output_type": "display_data"
    }
   ],
   "source": [
    "fig = make_subplots(rows=1, cols=2)\n",
    "\n",
    "fig.add_trace(go.Box(y=x['Expenses'], name='Expenses'), row=1, col=1)\n",
    "fig.add_trace(go.Box(y=x['Revenue'], name='Revenue'), row=1, col=1)\n",
    "\n",
    "scatter_trendline = px.scatter(x, x=\"Expenses\", y=\"Revenue\", trendline=\"ols\", trendline_color_override=\"orange\")['data'][1]\n",
    "fig.add_trace(go.Scatter(x=x[\"Expenses\"], y=x[\"Revenue\"], mode=\"markers\", name=\"Expenses vs Revenue\"), row=1, col=2)\n",
    "fig.add_trace(scatter_trendline, row=1, col=2)\n",
    "\n",
    "fig.write_html(\"g_4.html\")\n",
    "fig.show()"
   ]
  },
  {
   "cell_type": "code",
   "execution_count": 21,
   "metadata": {},
   "outputs": [
    {
     "data": {
      "text/html": [
       "<div>\n",
       "<style scoped>\n",
       "    .dataframe tbody tr th:only-of-type {\n",
       "        vertical-align: middle;\n",
       "    }\n",
       "\n",
       "    .dataframe tbody tr th {\n",
       "        vertical-align: top;\n",
       "    }\n",
       "\n",
       "    .dataframe thead th {\n",
       "        text-align: right;\n",
       "    }\n",
       "</style>\n",
       "<table border=\"1\" class=\"dataframe\">\n",
       "  <thead>\n",
       "    <tr style=\"text-align: right;\">\n",
       "      <th></th>\n",
       "      <th>Month</th>\n",
       "      <th>Revenue</th>\n",
       "      <th>Expenses</th>\n",
       "      <th>Profit</th>\n",
       "      <th>Rasio Laba (%)</th>\n",
       "    </tr>\n",
       "  </thead>\n",
       "  <tbody>\n",
       "    <tr>\n",
       "      <th>count</th>\n",
       "      <td>12.000000</td>\n",
       "      <td>1.200000e+01</td>\n",
       "      <td>12.000000</td>\n",
       "      <td>12.000000</td>\n",
       "      <td>12.000000</td>\n",
       "    </tr>\n",
       "    <tr>\n",
       "      <th>mean</th>\n",
       "      <td>6.500000</td>\n",
       "      <td>1.025947e+06</td>\n",
       "      <td>498289.666667</td>\n",
       "      <td>527657.000000</td>\n",
       "      <td>105.935837</td>\n",
       "    </tr>\n",
       "    <tr>\n",
       "      <th>std</th>\n",
       "      <td>3.605551</td>\n",
       "      <td>1.402715e+05</td>\n",
       "      <td>66449.951392</td>\n",
       "      <td>79700.318477</td>\n",
       "      <td>8.751127</td>\n",
       "    </tr>\n",
       "    <tr>\n",
       "      <th>min</th>\n",
       "      <td>1.000000</td>\n",
       "      <td>7.356240e+05</td>\n",
       "      <td>368634.000000</td>\n",
       "      <td>366990.000000</td>\n",
       "      <td>92.223476</td>\n",
       "    </tr>\n",
       "    <tr>\n",
       "      <th>25%</th>\n",
       "      <td>3.750000</td>\n",
       "      <td>9.671322e+05</td>\n",
       "      <td>465498.250000</td>\n",
       "      <td>489019.500000</td>\n",
       "      <td>101.069743</td>\n",
       "    </tr>\n",
       "    <tr>\n",
       "      <th>50%</th>\n",
       "      <td>6.500000</td>\n",
       "      <td>1.023612e+06</td>\n",
       "      <td>490457.000000</td>\n",
       "      <td>522254.000000</td>\n",
       "      <td>105.381144</td>\n",
       "    </tr>\n",
       "    <tr>\n",
       "      <th>75%</th>\n",
       "      <td>9.250000</td>\n",
       "      <td>1.072955e+06</td>\n",
       "      <td>530420.000000</td>\n",
       "      <td>575796.250000</td>\n",
       "      <td>110.821734</td>\n",
       "    </tr>\n",
       "    <tr>\n",
       "      <th>max</th>\n",
       "      <td>12.000000</td>\n",
       "      <td>1.296287e+06</td>\n",
       "      <td>629845.000000</td>\n",
       "      <td>666442.000000</td>\n",
       "      <td>121.720597</td>\n",
       "    </tr>\n",
       "  </tbody>\n",
       "</table>\n",
       "</div>"
      ],
      "text/plain": [
       "           Month       Revenue       Expenses         Profit  Rasio Laba (%)\n",
       "count  12.000000  1.200000e+01      12.000000      12.000000       12.000000\n",
       "mean    6.500000  1.025947e+06  498289.666667  527657.000000      105.935837\n",
       "std     3.605551  1.402715e+05   66449.951392   79700.318477        8.751127\n",
       "min     1.000000  7.356240e+05  368634.000000  366990.000000       92.223476\n",
       "25%     3.750000  9.671322e+05  465498.250000  489019.500000      101.069743\n",
       "50%     6.500000  1.023612e+06  490457.000000  522254.000000      105.381144\n",
       "75%     9.250000  1.072955e+06  530420.000000  575796.250000      110.821734\n",
       "max    12.000000  1.296287e+06  629845.000000  666442.000000      121.720597"
      ]
     },
     "execution_count": 21,
     "metadata": {},
     "output_type": "execute_result"
    }
   ],
   "source": [
    "x.describe(include='all')"
   ]
  },
  {
   "cell_type": "markdown",
   "metadata": {},
   "source": [
    "Proyeksi Kinerja Keuangan untuk Tahun Berikutnya"
   ]
  },
  {
   "cell_type": "code",
   "execution_count": 22,
   "metadata": {},
   "outputs": [],
   "source": [
    "month = x['Month'].values.reshape(-1,1) \n",
    "rev = x['Revenue']                      "
   ]
  },
  {
   "cell_type": "code",
   "execution_count": 23,
   "metadata": {},
   "outputs": [
    {
     "name": "stdout",
     "output_type": "stream",
     "text": [
      "Proyeksi Kinerja Keuangan Tahun 2024:\n",
      "--------------------------------\n",
      "Model Regresi Liniar:\n",
      "Bulan 1: $1007344.89\n",
      "Bulan 2: $1004483.08\n",
      "Bulan 3: $1001621.27\n",
      "Bulan 4: $998759.46\n",
      "Bulan 5: $995897.65\n",
      "Bulan 6: $993035.84\n",
      "Bulan 7: $990174.03\n",
      "Bulan 8: $987312.22\n",
      "Bulan 9: $984450.40\n",
      "Bulan 10: $981588.59\n",
      "Bulan 11: $978726.78\n",
      "Bulan 12: $975864.97\n",
      "\n",
      "Metode Peramalan ARIMA:\n",
      "Bulan 1: $1075166.21\n",
      "Bulan 2: $1071393.59\n",
      "Bulan 3: $1071757.66\n",
      "Bulan 4: $1071722.53\n",
      "Bulan 5: $1071725.92\n",
      "Bulan 6: $1071725.59\n",
      "Bulan 7: $1071725.62\n",
      "Bulan 8: $1071725.62\n",
      "Bulan 9: $1071725.62\n",
      "Bulan 10: $1071725.62\n",
      "Bulan 11: $1071725.62\n",
      "Bulan 12: $1071725.62\n"
     ]
    }
   ],
   "source": [
    "#regresi linear, Model ini menggunakan hubungan linier antara bulan (variabel independen) dan pendapatan (variabel dependen)\n",
    "model_1 = LinearRegression().fit(month, rev)\n",
    "next_year_month = np.array([[i] for i in range(13, 25)])\n",
    "predicted_revenue_model_1 = model_1.predict(next_year_month)\n",
    "\n",
    "#peramalan arima, Metode ini adalah model statistik yang bergantung pada analisis time series\n",
    "model_2 = ARIMA(x['Revenue'], order=(1,1,1))\n",
    "arima_results = model_2.fit()\n",
    "predicted_revenue_model_2 = arima_results.forecast(steps=12)\n",
    "\n",
    "print(\"Proyeksi Kinerja Keuangan Tahun 2024:\")\n",
    "print(\"--------------------------------\")\n",
    "print(\"Model Regresi Liniar:\")\n",
    "for month, revenue in enumerate(predicted_revenue_model_1, start=1):\n",
    "    print(f\"Bulan {month}: ${revenue:.2f}\")\n",
    "print(\"\\nMetode Peramalan ARIMA:\")\n",
    "for month, revenue in enumerate(predicted_revenue_model_2, start=1):\n",
    "    print(f\"Bulan {month}: ${revenue:.2f}\")    "
   ]
  },
  {
   "cell_type": "code",
   "execution_count": 24,
   "metadata": {},
   "outputs": [
    {
     "data": {
      "image/png": "[encoded data removed]",
      "text/plain": [
       "<Figure size 640x480 with 1 Axes>"
      ]
     },
     "metadata": {},
     "output_type": "display_data"
    }
   ],
   "source": [
    "plt.plot(x['Month'], x['Revenue'], marker='o', label='Tahun 2023')\n",
    "plt.plot(range(1, len(predicted_revenue_model_2) + 1), predicted_revenue_model_2, marker='s', label='Tahun 2024 (Prediksi Peramalan ARIMA)')\n",
    "plt.plot(range(1, len(predicted_revenue_model_1) + 1), predicted_revenue_model_1, marker='s', label='Tahun 2024 (Prediksi Regresi Linear)')\n",
    "\n",
    "plt.title('Kinerja Keuangan')\n",
    "plt.xticks(x['Month'])\n",
    "plt.xlabel('Bulan')\n",
    "plt.ylabel('Total')\n",
    "plt.legend()\n",
    "plt.grid(True)\n",
    "\n",
    "plt.show()"
   ]
  },
  {
   "cell_type": "markdown",
   "metadata": {},
   "source": [
    "Margin Keuntungan (Profit Margin) Setiap Bulan"
   ]
  },
  {
   "cell_type": "code",
   "execution_count": 25,
   "metadata": {},
   "outputs": [
    {
     "data": {
      "text/html": [
       "<div>\n",
       "<style scoped>\n",
       "    .dataframe tbody tr th:only-of-type {\n",
       "        vertical-align: middle;\n",
       "    }\n",
       "\n",
       "    .dataframe tbody tr th {\n",
       "        vertical-align: top;\n",
       "    }\n",
       "\n",
       "    .dataframe thead th {\n",
       "        text-align: right;\n",
       "    }\n",
       "</style>\n",
       "<table border=\"1\" class=\"dataframe\">\n",
       "  <thead>\n",
       "    <tr style=\"text-align: right;\">\n",
       "      <th></th>\n",
       "      <th>Month</th>\n",
       "      <th>Revenue</th>\n",
       "      <th>Expenses</th>\n",
       "      <th>Profit</th>\n",
       "      <th>Rasio Laba (%)</th>\n",
       "      <th>Profit Margin (%)</th>\n",
       "    </tr>\n",
       "  </thead>\n",
       "  <tbody>\n",
       "    <tr>\n",
       "      <th>0</th>\n",
       "      <td>1</td>\n",
       "      <td>1296287.0</td>\n",
       "      <td>629845.0</td>\n",
       "      <td>666442.0</td>\n",
       "      <td>105.810477</td>\n",
       "      <td>51.411609</td>\n",
       "    </tr>\n",
       "    <tr>\n",
       "      <th>1</th>\n",
       "      <td>2</td>\n",
       "      <td>971880.0</td>\n",
       "      <td>463243.0</td>\n",
       "      <td>508637.0</td>\n",
       "      <td>109.799177</td>\n",
       "      <td>52.335371</td>\n",
       "    </tr>\n",
       "    <tr>\n",
       "      <th>2</th>\n",
       "      <td>3</td>\n",
       "      <td>1068769.0</td>\n",
       "      <td>499683.0</td>\n",
       "      <td>569086.0</td>\n",
       "      <td>113.889406</td>\n",
       "      <td>53.246866</td>\n",
       "    </tr>\n",
       "    <tr>\n",
       "      <th>3</th>\n",
       "      <td>4</td>\n",
       "      <td>1011152.0</td>\n",
       "      <td>466250.0</td>\n",
       "      <td>544902.0</td>\n",
       "      <td>116.869062</td>\n",
       "      <td>53.889227</td>\n",
       "    </tr>\n",
       "    <tr>\n",
       "      <th>4</th>\n",
       "      <td>5</td>\n",
       "      <td>952889.0</td>\n",
       "      <td>491328.0</td>\n",
       "      <td>461561.0</td>\n",
       "      <td>93.941522</td>\n",
       "      <td>48.438066</td>\n",
       "    </tr>\n",
       "    <tr>\n",
       "      <th>5</th>\n",
       "      <td>6</td>\n",
       "      <td>735624.0</td>\n",
       "      <td>368634.0</td>\n",
       "      <td>366990.0</td>\n",
       "      <td>99.554029</td>\n",
       "      <td>49.888258</td>\n",
       "    </tr>\n",
       "    <tr>\n",
       "      <th>6</th>\n",
       "      <td>7</td>\n",
       "      <td>1063433.0</td>\n",
       "      <td>527562.0</td>\n",
       "      <td>535871.0</td>\n",
       "      <td>101.574981</td>\n",
       "      <td>50.390669</td>\n",
       "    </tr>\n",
       "    <tr>\n",
       "      <th>7</th>\n",
       "      <td>8</td>\n",
       "      <td>984361.0</td>\n",
       "      <td>480289.0</td>\n",
       "      <td>504072.0</td>\n",
       "      <td>104.951810</td>\n",
       "      <td>51.208043</td>\n",
       "    </tr>\n",
       "    <tr>\n",
       "      <th>8</th>\n",
       "      <td>9</td>\n",
       "      <td>910322.0</td>\n",
       "      <td>445481.0</td>\n",
       "      <td>464841.0</td>\n",
       "      <td>104.345864</td>\n",
       "      <td>51.063360</td>\n",
       "    </tr>\n",
       "    <tr>\n",
       "      <th>9</th>\n",
       "      <td>10</td>\n",
       "      <td>1085513.0</td>\n",
       "      <td>489586.0</td>\n",
       "      <td>595927.0</td>\n",
       "      <td>121.720597</td>\n",
       "      <td>54.898191</td>\n",
       "    </tr>\n",
       "    <tr>\n",
       "      <th>10</th>\n",
       "      <td>11</td>\n",
       "      <td>1195057.0</td>\n",
       "      <td>578581.0</td>\n",
       "      <td>616476.0</td>\n",
       "      <td>106.549645</td>\n",
       "      <td>51.585489</td>\n",
       "    </tr>\n",
       "    <tr>\n",
       "      <th>11</th>\n",
       "      <td>12</td>\n",
       "      <td>1036073.0</td>\n",
       "      <td>538994.0</td>\n",
       "      <td>497079.0</td>\n",
       "      <td>92.223476</td>\n",
       "      <td>47.977218</td>\n",
       "    </tr>\n",
       "  </tbody>\n",
       "</table>\n",
       "</div>"
      ],
      "text/plain": [
       "    Month    Revenue  Expenses    Profit  Rasio Laba (%)  Profit Margin (%)\n",
       "0       1  1296287.0  629845.0  666442.0      105.810477          51.411609\n",
       "1       2   971880.0  463243.0  508637.0      109.799177          52.335371\n",
       "2       3  1068769.0  499683.0  569086.0      113.889406          53.246866\n",
       "3       4  1011152.0  466250.0  544902.0      116.869062          53.889227\n",
       "4       5   952889.0  491328.0  461561.0       93.941522          48.438066\n",
       "5       6   735624.0  368634.0  366990.0       99.554029          49.888258\n",
       "6       7  1063433.0  527562.0  535871.0      101.574981          50.390669\n",
       "7       8   984361.0  480289.0  504072.0      104.951810          51.208043\n",
       "8       9   910322.0  445481.0  464841.0      104.345864          51.063360\n",
       "9      10  1085513.0  489586.0  595927.0      121.720597          54.898191\n",
       "10     11  1195057.0  578581.0  616476.0      106.549645          51.585489\n",
       "11     12  1036073.0  538994.0  497079.0       92.223476          47.977218"
      ]
     },
     "execution_count": 25,
     "metadata": {},
     "output_type": "execute_result"
    }
   ],
   "source": [
    "x['Profit Margin (%)'] = (x['Profit']/x['Revenue'])*100\n",
    "x"
   ]
  },
  {
   "cell_type": "code",
   "execution_count": 26,
   "metadata": {},
   "outputs": [
    {
     "data": {
      "image/png": "[encoded data removed]",
      "text/plain": [
       "<Figure size 640x480 with 1 Axes>"
      ]
     },
     "metadata": {},
     "output_type": "display_data"
    }
   ],
   "source": [
    "plt.plot(x['Month'], x['Profit Margin (%)'], marker='o')\n",
    "\n",
    "plt.title('Profit Margin Bulanan Tahun 2023')\n",
    "plt.xticks(x['Month'])\n",
    "plt.xlabel('Bulan')\n",
    "plt.ylabel('Total')\n",
    "plt.grid(True)\n",
    "\n",
    "plt.show()"
   ]
  },
  {
   "cell_type": "code",
   "execution_count": null,
   "metadata": {},
   "outputs": [],
   "source": []
  }
 ],
 "metadata": {
  "kernelspec": {
   "display_name": "py38",
   "language": "python",
   "name": "python3"
  },
  "language_info": {
   "codemirror_mode": {
    "name": "ipython",
    "version": 3
   },
   "file_extension": ".py",
   "mimetype": "text/x-python",
   "name": "python",
   "nbconvert_exporter": "python",
   "pygments_lexer": "ipython3",
   "version": "3.12.3"
  },
  "orig_nbformat": 4
 },
 "nbformat": 4,
 "nbformat_minor": 2
}
